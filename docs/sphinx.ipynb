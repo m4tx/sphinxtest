{
 "cells": [
  {
   "cell_type": "markdown",
   "metadata": {},
   "source": [
    "# sphinx\n",
    "\n",
    "[Sphinx](https://www.sphinx-doc.org/en/master/) to narzędzie do generowania dokumentacji, które konwertuje pliki w formacie [reStructuredText](https://www.sphinx-doc.org/en/master/usage/restructuredtext/index.html) do plików HTML, LaTeX, PDF, ePUB, man. Szeroko wykorzystywany w ekosystemie Pythona, wykorzystywany np. przez [requests](https://requests.readthedocs.io/en/master/), [Beautiful Soup](https://www.crummy.com/software/BeautifulSoup/bs4/doc/), [Pillow](https://pillow.readthedocs.io/en/stable/), czy [oficjalną dokumentację Pythona](https://docs.python.org/3/)."
   ]
  },
  {
   "cell_type": "markdown",
   "metadata": {},
   "source": [
    "## Utworzenie projektu"
   ]
  },
  {
   "cell_type": "markdown",
   "metadata": {},
   "source": [
    "```bash\n",
    "$ sphinx-quickstart\n",
    "$ make html\n",
    "```"
   ]
  },
  {
   "cell_type": "markdown",
   "metadata": {},
   "source": [
    "## Dokumentowanie funkcji Pythonowych"
   ]
  },
  {
   "cell_type": "markdown",
   "metadata": {},
   "source": [
    "```rst\n",
    "Strings\n",
    "=======\n",
    "\n",
    ".. py:function:: join_lines(list_of_strings)\n",
    "\n",
    "   Return a string that contains the strings from the *list_of_strings* parameter combined with newlines.\n",
    "\n",
    "   :param list_of_strings: list of strings to combine\n",
    "   :return: strings, combined with newline characters\n",
    "```"
   ]
  },
  {
   "cell_type": "markdown",
   "metadata": {},
   "source": [
    "## Rozszerzenie autodoc"
   ]
  },
  {
   "cell_type": "markdown",
   "metadata": {},
   "source": [
    "Sphinx może automatycznie generować dokumentację na podstawie docstringów w kodzie. W tym celu należy dodać rozszerzenie `autodoc` w `conf.py`:\n",
    "\n",
    "```py\n",
    "extensions = [\n",
    "    'sphinx.ext.autodoc',\n",
    "]\n",
    "```\n",
    "\n",
    "Dokumentację dla modułu można wówczas wygenerować za pomocą dyrektywy `automodule`:\n",
    "\n",
    "```rst\n",
    ".. automodule:: examplecode.functions\n",
    "    :members:\n",
    "    :undoc-members:\n",
    "    :show-inheritance:\n",
    "```"
   ]
  },
  {
   "cell_type": "markdown",
   "metadata": {},
   "source": [
    "```py\n",
    "def x_cubed(x):\n",
    "    \"\"\"\n",
    "    A function to return the cube of X.\n",
    "\n",
    "    :param float x: a float\n",
    "    :return: the value fo x-cubed\n",
    "    :rtype: float\n",
    "    \"\"\"\n",
    "    return x*x*x\n",
    "```"
   ]
  },
  {
   "cell_type": "markdown",
   "metadata": {},
   "source": [
    "## Rozszerzenie napoleon"
   ]
  },
  {
   "cell_type": "markdown",
   "metadata": {},
   "source": [
    "Nie musimy używać reStructuredText do pisania dokumentacji - jeżeli preferujemy styl [numpy](https://numpydoc.readthedocs.io/en/latest/format.html#docstring-standard) lub [Google](https://google.github.io/styleguide/pyguide.html#383-functions-and-methods), można użyć rozszerzenia `napoleon`:\n",
    "\n",
    "```py\n",
    "extensions = [\n",
    "    'sphinx.ext.autodoc',\n",
    "    'sphinx.ext.napoleon',\n",
    "]\n",
    "```\n",
    "\n",
    "Wówczas, docstring może wyglądać tak:\n",
    "\n",
    "```py\n",
    "def x_squared(x):\n",
    "    \"\"\"\n",
    "    A function to return the square of X.\n",
    "\n",
    "    Args:\n",
    "        x (float): A float or numpy array\n",
    "\n",
    "    Returns:\n",
    "        float: The value of x-squared\n",
    "    \"\"\"\n",
    "    return x*x\n",
    "```"
   ]
  },
  {
   "cell_type": "markdown",
   "metadata": {},
   "source": [
    "## Rozszerzenie intersphinx"
   ]
  },
  {
   "cell_type": "markdown",
   "metadata": {},
   "source": [
    "Pozwala linkować zewnętrzną dokumentację z naszej.\n",
    "\n",
    "```py\n",
    "extensions = [\n",
    "    'sphinx.ext.autodoc',\n",
    "    'sphinx.ext.intersphinx',\n",
    "]\n",
    "\n",
    "intersphinx_mapping = {'python': ('https://docs.python.org/3', None)}\n",
    "```\n",
    "\n",
    "Użycie w docstringach:\n",
    "\n",
    "```py\n",
    "def open_file():\n",
    "    \"\"\"\n",
    "    Opens a file.\n",
    "\n",
    "    See also: :py:func:`io.open`\n",
    "\n",
    "    :return: opened file\n",
    "    \"\"\"\n",
    "    return io.open('file', 'r')\n",
    "```"
   ]
  },
  {
   "cell_type": "code",
   "execution_count": null,
   "metadata": {},
   "outputs": [],
   "source": []
  }
 ],
 "metadata": {
  "kernelspec": {
   "display_name": "Python 3",
   "language": "python",
   "name": "python3"
  },
  "language_info": {
   "codemirror_mode": {
    "name": "ipython",
    "version": 3
   },
   "file_extension": ".py",
   "mimetype": "text/x-python",
   "name": "python",
   "nbconvert_exporter": "python",
   "pygments_lexer": "ipython3",
   "version": "3.9.1"
  }
 },
 "nbformat": 4,
 "nbformat_minor": 4
}
